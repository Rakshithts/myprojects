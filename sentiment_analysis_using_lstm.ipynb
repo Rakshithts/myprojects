{
  "nbformat": 4,
  "nbformat_minor": 0,
  "metadata": {
    "colab": {
      "provenance": [],
      "authorship_tag": "ABX9TyMQIXSI66ogefJVyblk913/",
      "include_colab_link": true
    },
    "kernelspec": {
      "name": "python3",
      "display_name": "Python 3"
    },
    "language_info": {
      "name": "python"
    }
  },
  "cells": [
    {
      "cell_type": "markdown",
      "metadata": {
        "id": "view-in-github",
        "colab_type": "text"
      },
      "source": [
        "<a href=\"https://colab.research.google.com/github/Rakshithts/myprojects/blob/main/sentiment_analysis_using_lstm.ipynb\" target=\"_parent\"><img src=\"https://colab.research.google.com/assets/colab-badge.svg\" alt=\"Open In Colab\"/></a>"
      ]
    },
    {
      "cell_type": "code",
      "execution_count": null,
      "metadata": {
        "id": "vm_FXpgfByxp"
      },
      "outputs": [],
      "source": [
        "!pip install ipywidgets\n"
      ]
    },
    {
      "cell_type": "code",
      "source": [
        "import numpy as np\n",
        "import re\n",
        "import os\n",
        "import ipywidgets as widgets\n",
        "from IPython.display import display, clear_output\n",
        "from tensorflow.keras.preprocessing.text import Tokenizer\n",
        "from tensorflow.keras.preprocessing.sequence import pad_sequences\n",
        "from tensorflow.keras.models import Sequential\n",
        "from tensorflow.keras.layers import Embedding, LSTM, Dense\n",
        "from tensorflow.keras.datasets import imdb\n",
        "\n",
        "# Parameters\n",
        "max_features = 10000\n",
        "maxlen = 100\n",
        "embedding_dim = 100\n",
        "\n",
        "# Load IMDB\n",
        "(x_train, y_train), (x_test, y_test) = imdb.load_data(num_words=max_features)\n",
        "word_index = imdb.get_word_index()\n",
        "reverse_word_index = {v: k for k, v in word_index.items()}\n",
        "\n",
        "# Decode to raw text\n",
        "def decode_review(encoded):\n",
        "    return ' '.join([reverse_word_index.get(i - 3, '?') for i in encoded])\n",
        "\n",
        "train_text = [' '.join([reverse_word_index.get(i - 3, '?') for i in seq]) for seq in x_train]\n",
        "test_text = [' '.join([reverse_word_index.get(i - 3, '?') for i in seq]) for seq in x_test]\n",
        "\n",
        "# Clean text\n",
        "def clean_text(text):\n",
        "    text = text.lower()\n",
        "    text = re.sub(r\"[^a-zA-Z']\", \" \", text)\n",
        "    return text\n",
        "\n",
        "train_text = [clean_text(text) for text in train_text]\n",
        "test_text = [clean_text(text) for text in test_text]\n",
        "\n",
        "# Tokenizer\n",
        "tokenizer = Tokenizer(num_words=max_features)\n",
        "tokenizer.fit_on_texts(train_text)\n",
        "x_train_seq = tokenizer.texts_to_sequences(train_text)\n",
        "x_test_seq = tokenizer.texts_to_sequences(test_text)\n",
        "x_train_pad = pad_sequences(x_train_seq, maxlen=maxlen)\n",
        "x_test_pad = pad_sequences(x_test_seq, maxlen=maxlen)\n",
        "\n",
        "# Load GloVe embeddings\n",
        "embedding_index = {}\n",
        "with open(\"/content/glove.6B.100d.txt\", encoding='utf-8') as f:\n",
        "    for line in f:\n",
        "        values = line.split()\n",
        "        word = values[0]\n",
        "        coefs = np.asarray(values[1:], dtype='float32')\n",
        "        embedding_index[word] = coefs\n",
        "\n",
        "# Build embedding matrix\n",
        "embedding_matrix = np.zeros((max_features, embedding_dim))\n",
        "for word, i in tokenizer.word_index.items():\n",
        "    if i < max_features:\n",
        "        embedding_vector = embedding_index.get(word)\n",
        "        if embedding_vector is not None:\n",
        "            embedding_matrix[i] = embedding_vector\n",
        "\n",
        "# Build model\n",
        "model = Sequential()\n",
        "model.add(Embedding(max_features, embedding_dim, weights=[embedding_matrix],\n",
        "                    input_length=maxlen, trainable=False))\n",
        "model.add(LSTM(64, dropout=0.2, recurrent_dropout=0.2))\n",
        "model.add(Dense(1, activation='sigmoid'))\n",
        "model.compile(loss='binary_crossentropy', optimizer='adam', metrics=['accuracy'])\n",
        "\n",
        "# Train\n",
        "model.fit(x_train_pad, y_train, batch_size=64, epochs=4, validation_split=0.2)\n",
        "\n",
        "# Evaluate\n",
        "_, acc = model.evaluate(x_test_pad, y_test)\n",
        "print(f\"Model Test Accuracy: {acc:.3f}\")\n"
      ],
      "metadata": {
        "id": "mE2ZQSKDB6ix"
      },
      "execution_count": null,
      "outputs": []
    },
    {
      "cell_type": "code",
      "source": [
        "# Prediction helpers\n",
        "def preprocess_input(text):\n",
        "    text = clean_text(text)\n",
        "    seq = tokenizer.texts_to_sequences([text])\n",
        "    padded = pad_sequences(seq, maxlen=maxlen)\n",
        "    return padded\n",
        "\n",
        "def predict_sentiment(text):\n",
        "    padded_input = preprocess_input(text)\n",
        "    pred = model.predict(padded_input)[0][0]\n",
        "    sentiment = \"Positive 😊\" if pred >= 0.5 else \"Negative 😠\"\n",
        "    return sentiment, pred\n",
        "\n",
        "# UI Widgets\n",
        "input_box = widgets.Textarea(\n",
        "    value='',\n",
        "    placeholder='Type your movie review here...',\n",
        "    description='Review:',\n",
        "    layout=widgets.Layout(width='100%', height='100px'),\n",
        "    style={'description_width': 'initial'}\n",
        ")\n",
        "\n",
        "output_box = widgets.Output()\n",
        "button = widgets.Button(description=\"Predict Sentiment\", button_style='info')\n",
        "\n",
        "# Button click handler\n",
        "def on_button_clicked(b):\n",
        "    with output_box:\n",
        "        clear_output()\n",
        "        user_text = input_box.value\n",
        "        sentiment, conf = predict_sentiment(user_text)\n",
        "        print(f\"Review: {user_text}\")\n",
        "        print(f\"Sentiment: {sentiment} (Confidence: {conf:.2f})\")\n",
        "\n",
        "button.on_click(on_button_clicked)\n",
        "\n",
        "# Display interface\n",
        "display(input_box, button, output_box)\n"
      ],
      "metadata": {
        "id": "TfE1yt6gB6k_"
      },
      "execution_count": null,
      "outputs": []
    },
    {
      "cell_type": "code",
      "source": [],
      "metadata": {
        "id": "Ef0a9jR_B6oL"
      },
      "execution_count": null,
      "outputs": []
    },
    {
      "cell_type": "code",
      "source": [],
      "metadata": {
        "id": "l8yvjXVQB6qu"
      },
      "execution_count": null,
      "outputs": []
    },
    {
      "cell_type": "code",
      "source": [],
      "metadata": {
        "id": "SbGOC2xpB6tn"
      },
      "execution_count": null,
      "outputs": []
    },
    {
      "cell_type": "code",
      "source": [],
      "metadata": {
        "id": "gLwvTeOEB6vp"
      },
      "execution_count": null,
      "outputs": []
    },
    {
      "cell_type": "code",
      "source": [],
      "metadata": {
        "id": "u62NR8noB6zL"
      },
      "execution_count": null,
      "outputs": []
    },
    {
      "cell_type": "code",
      "source": [],
      "metadata": {
        "id": "GlhEB6_fX8RA"
      },
      "execution_count": null,
      "outputs": []
    }
  ]
}