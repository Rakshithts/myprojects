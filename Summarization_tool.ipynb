{
  "nbformat": 4,
  "nbformat_minor": 0,
  "metadata": {
    "colab": {
      "provenance": [],
      "authorship_tag": "ABX9TyNa2B9bfp61pefBirLOJZlQ",
      "include_colab_link": true
    },
    "kernelspec": {
      "name": "python3",
      "display_name": "Python 3"
    },
    "language_info": {
      "name": "python"
    }
  },
  "cells": [
    {
      "cell_type": "markdown",
      "metadata": {
        "id": "view-in-github",
        "colab_type": "text"
      },
      "source": [
        "<a href=\"https://colab.research.google.com/github/Rakshithts/myprojects/blob/projects/Summarization_tool.ipynb\" target=\"_parent\"><img src=\"https://colab.research.google.com/assets/colab-badge.svg\" alt=\"Open In Colab\"/></a>"
      ]
    },
    {
      "cell_type": "code",
      "source": [
        "#abstractive summary\n",
        "from transformers import pipeline, AutoTokenizer, AutoModelForSeq2SeqLM\n",
        "import math\n",
        "\n",
        "# 1) Load model + tokenizer (BART large CNN)\n",
        "MODEL_NAME = \"facebook/bart-large-cnn\"\n",
        "tokenizer = AutoTokenizer.from_pretrained(MODEL_NAME)\n",
        "model = AutoModelForSeq2SeqLM.from_pretrained(MODEL_NAME)\n",
        "\n",
        "summarizer = pipeline(\"summarization\", model=model, tokenizer=tokenizer, device=-1)\n",
        "# set device=0 for GPU (if available and torch detects it)\n",
        "\n",
        "def chunk_text(text, max_tokens=800):\n",
        "    \"\"\"\n",
        "    Simple heuristic chunker: split document into roughly equal sized chunks\n",
        "    by sentences until approx max_tokens (model-specific) — avoids truncation.\n",
        "    \"\"\"\n",
        "    import re\n",
        "    sentences = re.split(r'(?<=[.!?])\\s+', text.strip())\n",
        "    chunks = []\n",
        "    cur = \"\"\n",
        "    for s in sentences:\n",
        "        if len(tokenizer.encode(cur + \" \" + s)) <= max_tokens:\n",
        "            cur = (cur + \" \" + s).strip()\n",
        "        else:\n",
        "            if cur:\n",
        "                chunks.append(cur)\n",
        "            cur = s\n",
        "    if cur:\n",
        "        chunks.append(cur)\n",
        "    return chunks\n",
        "\n",
        "def summarize_document(text, max_chunk_tokens=800, summary_max_length=150, summary_min_length=40):\n",
        "    # If document is small, pipeline will handle it directly\n",
        "    tokenized_len = len(tokenizer.encode(text))\n",
        "    if tokenized_len <= max_chunk_tokens:\n",
        "        out = summarizer(text,\n",
        "                         max_length=summary_max_length,\n",
        "                         min_length=summary_min_length,\n",
        "                         do_sample=False,\n",
        "                         truncation=True)\n",
        "        return out[0]['summary_text'].strip()\n",
        "    # For long documents: chunk + summarize each chunk + combine\n",
        "    chunks = chunk_text(text, max_tokens=max_chunk_tokens)\n",
        "    partial_summaries = []\n",
        "    for i, c in enumerate(chunks):\n",
        "        print(f\"Summarizing chunk {i+1}/{len(chunks)} (tokens: {len(tokenizer.encode(c))})\")\n",
        "        s = summarizer(c,\n",
        "                       max_length=summary_max_length,\n",
        "                       min_length=summary_min_length,\n",
        "                       do_sample=False,\n",
        "                       truncation=True)[0]['summary_text'].strip()\n",
        "        partial_summaries.append(s)\n",
        "    # Finally, optionally summarize the concatenation of chunk summaries to get a single cohesive summary\n",
        "    combined = \" \".join(partial_summaries)\n",
        "    final = summarizer(combined,\n",
        "                       max_length=summary_max_length,\n",
        "                       min_length=max(30, math.floor(summary_min_length/2)),\n",
        "                       do_sample=False,\n",
        "                       truncation=True)[0]['summary_text'].strip()\n",
        "    return final\n",
        "\n",
        "if __name__ == \"__main__\":\n",
        "    # Example: read an article from file and print the summary\n",
        "    import sys\n",
        "    if len(sys.argv) < 2:\n",
        "        print(\"Usage: python single_doc_summarize.py </content/article.txt>\")\n",
        "        sys.exit(1)\n",
        "    # path = sys.argv[1]\n",
        "    path = \"/content/article2.txt\"\n",
        "    with open(path, \"r\", encoding=\"utf-8\") as f:\n",
        "        doc = f.read()\n",
        "    summary = summarize_document(doc)\n",
        "    print(\"\\n=== SUMMARY ===\\n\")\n",
        "    print(summary)\n"
      ],
      "metadata": {
        "colab": {
          "base_uri": "https://localhost:8080/"
        },
        "id": "iOAhyJATF6JU",
        "outputId": "18f1f4b0-b115-41fd-9d5c-889c03951c9a"
      },
      "execution_count": null,
      "outputs": [
        {
          "output_type": "stream",
          "name": "stderr",
          "text": [
            "Device set to use cpu\n",
            "Asking to truncate to max_length but no maximum length is provided and the model has no predefined maximum length. Default to no truncation.\n"
          ]
        },
        {
          "output_type": "stream",
          "name": "stdout",
          "text": [
            "\n",
            "=== SUMMARY ===\n",
            "\n",
            "Artificial Intelligence (AI) has rapidly evolved from a niche area of computer science into a transformative force across multiple industries. With the rise of deep learning, large datasets, and powerful computational hardware, AI systems today are capable of performing complex tasks.\n"
          ]
        }
      ]
    },
    {
      "cell_type": "code",
      "source": [],
      "metadata": {
        "id": "USLzMSLkF6MG"
      },
      "execution_count": null,
      "outputs": []
    },
    {
      "cell_type": "code",
      "source": [
        "# Download necessary resources (only first time)\n",
        "import nltk\n",
        "nltk.download('punkt')\n",
        "nltk.download('punkt_tab')   # <-- add this line\n",
        "nltk.download('stopwords')\n"
      ],
      "metadata": {
        "colab": {
          "base_uri": "https://localhost:8080/"
        },
        "id": "aPGyj8lQNbNM",
        "outputId": "afa78383-b36d-4d35-b987-23e72c976c9e"
      },
      "execution_count": null,
      "outputs": [
        {
          "output_type": "stream",
          "name": "stderr",
          "text": [
            "[nltk_data] Downloading package punkt to /root/nltk_data...\n",
            "[nltk_data]   Package punkt is already up-to-date!\n",
            "[nltk_data] Downloading package punkt_tab to /root/nltk_data...\n",
            "[nltk_data]   Unzipping tokenizers/punkt_tab.zip.\n",
            "[nltk_data] Downloading package stopwords to /root/nltk_data...\n",
            "[nltk_data]   Package stopwords is already up-to-date!\n"
          ]
        },
        {
          "output_type": "execute_result",
          "data": {
            "text/plain": [
              "True"
            ]
          },
          "metadata": {},
          "execution_count": 2
        }
      ]
    },
    {
      "cell_type": "code",
      "source": [
        "\n",
        "\n",
        "import nltk\n",
        "import numpy as np\n",
        "import matplotlib.pyplot as plt\n",
        "from sklearn.model_selection import train_test_split\n",
        "from tensorflow.keras.preprocessing.text import Tokenizer\n",
        "from tensorflow.keras.preprocessing.sequence import pad_sequences\n",
        "from tensorflow.keras.models import Sequential\n",
        "from tensorflow.keras.layers import Embedding, LSTM, Dense, Dropout, Bidirectional\n",
        "\n",
        "# ---------------------------\n",
        "# 0. NLTK downloads (first run)\n",
        "# ---------------------------\n",
        "nltk.download(\"punkt\")\n",
        "nltk.download(\"stopwords\")\n",
        "\n",
        "from nltk.tokenize import sent_tokenize\n",
        "\n",
        "# ---------------------------\n",
        "# 1. Example document (replace with your own or load from file)\n",
        "# ---------------------------\n",
        "with open(\"/content/article2.txt\", \"r\", encoding=\"utf-8\") as f:\n",
        "    text = f.read()\n",
        "\n",
        "print(\"\\n=== INPUT TEXT PREVIEW ===\\n\")\n",
        "print(text[:500], \"...\\n\")  # preview first 500 chars\n",
        "\n",
        "# ---------------------------\n",
        "# 2. Sentence tokenization\n",
        "# ---------------------------\n",
        "sentences = sent_tokenize(text)\n",
        "print(f\"Total sentences: {len(sentences)}\")\n",
        "\n",
        "# ---------------------------\n",
        "# 3. Build tokenizer and sequences\n",
        "# ---------------------------\n",
        "# Tune num_words based on your corpus size; oov_token makes model robust to rare words\n",
        "tokenizer = Tokenizer(num_words=5000, oov_token=\"<OOV>\")\n",
        "tokenizer.fit_on_texts(sentences)\n",
        "sequences = tokenizer.texts_to_sequences(sentences)\n",
        "\n",
        "# choose maxlen = the 90th percentile of sentence lengths or a fixed cap, here we pick 30\n",
        "lengths = [len(s) for s in sequences]\n",
        "maxlen = min(30, max(lengths)) if len(lengths) > 0 else 30\n",
        "X = pad_sequences(sequences, maxlen=maxlen, padding=\"post\", truncating=\"post\")\n",
        "\n",
        "vocab_size = min(5000, len(tokenizer.word_index) + 1)\n",
        "print(f\"Vocab size: {vocab_size}, maxlen: {maxlen}\")\n",
        "\n",
        "# ---------------------------\n",
        "# 4. Pseudo-labeling (demo only)\n",
        "# ---------------------------\n",
        "# Simple heuristic: mark sentences longer than 10 words as 'important'\n",
        "y = np.array([1 if len(s.split()) > 10 else 0 for s in sentences])\n",
        "print(\"Pseudo labels:\", y)\n",
        "\n",
        "# ---------------------------\n",
        "# 5. Train / Test split\n",
        "# ---------------------------\n",
        "X_train, X_val, y_train, y_val = train_test_split(X, y, test_size=0.2, random_state=42, stratify=y if len(set(y))>1 else None)\n",
        "\n",
        "# ---------------------------\n",
        "# 6. Build LSTM classifier\n",
        "# ---------------------------\n",
        "embedding_dim = 100\n",
        "model = Sequential([\n",
        "    Embedding(input_dim=vocab_size, output_dim=embedding_dim, input_length=maxlen),\n",
        "    Bidirectional(LSTM(64, return_sequences=False)),\n",
        "    Dropout(0.3),\n",
        "    Dense(32, activation=\"relu\"),\n",
        "    Dropout(0.2),\n",
        "    Dense(1, activation=\"sigmoid\")\n",
        "])\n",
        "\n",
        "model.compile(optimizer=\"adam\", loss=\"binary_crossentropy\", metrics=[\"accuracy\"])\n",
        "model.summary()\n",
        "\n",
        "# ---------------------------\n",
        "# 7. Train (small epochs for demo)\n",
        "# ---------------------------\n",
        "history = model.fit(X_train, y_train, validation_data=(X_val, y_val),\n",
        "                    epochs=15, batch_size=8, verbose=1)\n",
        "\n",
        "# ---------------------------\n",
        "# 8. Predict importance scores for ALL sentences\n",
        "# ---------------------------\n",
        "y_scores = model.predict(X, verbose=0).flatten()  # probabilities in [0,1]\n",
        "\n",
        "# ---------------------------\n",
        "# 9. Select top-k sentences (preserve original order)\n",
        "# ---------------------------\n",
        "top_k = 3\n",
        "top_indices = np.argsort(y_scores)[-top_k:]           # highest probs (unsorted)\n",
        "top_indices_sorted = np.sort(top_indices)             # sort to retain document order\n",
        "summary_sentences = [sentences[i] for i in top_indices_sorted]\n",
        "\n",
        "# ---------------------------\n",
        "# 10. Visualization: bar chart of sentence scores\n",
        "# ---------------------------\n",
        "plt.figure(figsize=(10, 5))\n",
        "bars = plt.bar(range(len(sentences)), y_scores, color=\"skyblue\")\n",
        "for idx in top_indices:\n",
        "    bars[idx].set_color(\"orange\")\n",
        "plt.xticks(range(len(sentences)), [f\"Sent {i+1}\" for i in range(len(sentences))], rotation=45)\n",
        "plt.xlabel(\"Sentence Index\")\n",
        "plt.ylabel(\"Predicted Importance (probability)\")\n",
        "plt.title(\"LSTM Predicted Sentence Importance\")\n",
        "plt.tight_layout()\n",
        "plt.show()\n",
        "\n",
        "# ---------------------------\n",
        "# 11. Print summary\n",
        "# ---------------------------\n",
        "print(\"\\n=== ML-LSTM EXTRACTIVE SUMMARY ===\\n\")\n",
        "for s in summary_sentences:\n",
        "    print(s.strip())\n"
      ],
      "metadata": {
        "colab": {
          "base_uri": "https://localhost:8080/",
          "height": 1000
        },
        "id": "Z-hQhbD1NbQF",
        "outputId": "4773f45e-bc15-42c7-b2df-2198301141c8"
      },
      "execution_count": null,
      "outputs": [
        {
          "output_type": "stream",
          "name": "stdout",
          "text": [
            "\n",
            "=== INPUT TEXT PREVIEW ===\n",
            "\n",
            "Artificial Intelligence (AI) has rapidly evolved from a niche area of computer science into a transformative force across multiple industries. Initially, AI research was limited to solving narrow, well-defined problems such as playing chess or performing basic mathematical computations. However, with the rise of deep learning, large datasets, and powerful computational hardware, AI systems today are capable of performing complex tasks such as natural language understanding, image recognition, me ...\n",
            "\n",
            "Total sentences: 28\n",
            "Vocab size: 329, maxlen: 30\n",
            "Pseudo labels: [1 1 1 1 1 1 1 1 1 1 1 0 1 1 1 1 1 1 0 1 1 1 1 1 1 1 0 1]\n"
          ]
        },
        {
          "output_type": "stream",
          "name": "stderr",
          "text": [
            "[nltk_data] Downloading package punkt to /root/nltk_data...\n",
            "[nltk_data]   Package punkt is already up-to-date!\n",
            "[nltk_data] Downloading package stopwords to /root/nltk_data...\n",
            "[nltk_data]   Package stopwords is already up-to-date!\n",
            "/usr/local/lib/python3.12/dist-packages/keras/src/layers/core/embedding.py:97: UserWarning: Argument `input_length` is deprecated. Just remove it.\n",
            "  warnings.warn(\n"
          ]
        },
        {
          "output_type": "display_data",
          "data": {
            "text/plain": [
              "\u001b[1mModel: \"sequential\"\u001b[0m\n"
            ],
            "text/html": [
              "<pre style=\"white-space:pre;overflow-x:auto;line-height:normal;font-family:Menlo,'DejaVu Sans Mono',consolas,'Courier New',monospace\"><span style=\"font-weight: bold\">Model: \"sequential\"</span>\n",
              "</pre>\n"
            ]
          },
          "metadata": {}
        },
        {
          "output_type": "display_data",
          "data": {
            "text/plain": [
              "┏━━━━━━━━━━━━━━━━━━━━━━━━━━━━━━━━━┳━━━━━━━━━━━━━━━━━━━━━━━━┳━━━━━━━━━━━━━━━┓\n",
              "┃\u001b[1m \u001b[0m\u001b[1mLayer (type)                   \u001b[0m\u001b[1m \u001b[0m┃\u001b[1m \u001b[0m\u001b[1mOutput Shape          \u001b[0m\u001b[1m \u001b[0m┃\u001b[1m \u001b[0m\u001b[1m      Param #\u001b[0m\u001b[1m \u001b[0m┃\n",
              "┡━━━━━━━━━━━━━━━━━━━━━━━━━━━━━━━━━╇━━━━━━━━━━━━━━━━━━━━━━━━╇━━━━━━━━━━━━━━━┩\n",
              "│ embedding (\u001b[38;5;33mEmbedding\u001b[0m)           │ ?                      │   \u001b[38;5;34m0\u001b[0m (unbuilt) │\n",
              "├─────────────────────────────────┼────────────────────────┼───────────────┤\n",
              "│ bidirectional (\u001b[38;5;33mBidirectional\u001b[0m)   │ ?                      │   \u001b[38;5;34m0\u001b[0m (unbuilt) │\n",
              "├─────────────────────────────────┼────────────────────────┼───────────────┤\n",
              "│ dropout (\u001b[38;5;33mDropout\u001b[0m)               │ ?                      │             \u001b[38;5;34m0\u001b[0m │\n",
              "├─────────────────────────────────┼────────────────────────┼───────────────┤\n",
              "│ dense (\u001b[38;5;33mDense\u001b[0m)                   │ ?                      │   \u001b[38;5;34m0\u001b[0m (unbuilt) │\n",
              "├─────────────────────────────────┼────────────────────────┼───────────────┤\n",
              "│ dropout_1 (\u001b[38;5;33mDropout\u001b[0m)             │ ?                      │             \u001b[38;5;34m0\u001b[0m │\n",
              "├─────────────────────────────────┼────────────────────────┼───────────────┤\n",
              "│ dense_1 (\u001b[38;5;33mDense\u001b[0m)                 │ ?                      │   \u001b[38;5;34m0\u001b[0m (unbuilt) │\n",
              "└─────────────────────────────────┴────────────────────────┴───────────────┘\n"
            ],
            "text/html": [
              "<pre style=\"white-space:pre;overflow-x:auto;line-height:normal;font-family:Menlo,'DejaVu Sans Mono',consolas,'Courier New',monospace\">┏━━━━━━━━━━━━━━━━━━━━━━━━━━━━━━━━━┳━━━━━━━━━━━━━━━━━━━━━━━━┳━━━━━━━━━━━━━━━┓\n",
              "┃<span style=\"font-weight: bold\"> Layer (type)                    </span>┃<span style=\"font-weight: bold\"> Output Shape           </span>┃<span style=\"font-weight: bold\">       Param # </span>┃\n",
              "┡━━━━━━━━━━━━━━━━━━━━━━━━━━━━━━━━━╇━━━━━━━━━━━━━━━━━━━━━━━━╇━━━━━━━━━━━━━━━┩\n",
              "│ embedding (<span style=\"color: #0087ff; text-decoration-color: #0087ff\">Embedding</span>)           │ ?                      │   <span style=\"color: #00af00; text-decoration-color: #00af00\">0</span> (unbuilt) │\n",
              "├─────────────────────────────────┼────────────────────────┼───────────────┤\n",
              "│ bidirectional (<span style=\"color: #0087ff; text-decoration-color: #0087ff\">Bidirectional</span>)   │ ?                      │   <span style=\"color: #00af00; text-decoration-color: #00af00\">0</span> (unbuilt) │\n",
              "├─────────────────────────────────┼────────────────────────┼───────────────┤\n",
              "│ dropout (<span style=\"color: #0087ff; text-decoration-color: #0087ff\">Dropout</span>)               │ ?                      │             <span style=\"color: #00af00; text-decoration-color: #00af00\">0</span> │\n",
              "├─────────────────────────────────┼────────────────────────┼───────────────┤\n",
              "│ dense (<span style=\"color: #0087ff; text-decoration-color: #0087ff\">Dense</span>)                   │ ?                      │   <span style=\"color: #00af00; text-decoration-color: #00af00\">0</span> (unbuilt) │\n",
              "├─────────────────────────────────┼────────────────────────┼───────────────┤\n",
              "│ dropout_1 (<span style=\"color: #0087ff; text-decoration-color: #0087ff\">Dropout</span>)             │ ?                      │             <span style=\"color: #00af00; text-decoration-color: #00af00\">0</span> │\n",
              "├─────────────────────────────────┼────────────────────────┼───────────────┤\n",
              "│ dense_1 (<span style=\"color: #0087ff; text-decoration-color: #0087ff\">Dense</span>)                 │ ?                      │   <span style=\"color: #00af00; text-decoration-color: #00af00\">0</span> (unbuilt) │\n",
              "└─────────────────────────────────┴────────────────────────┴───────────────┘\n",
              "</pre>\n"
            ]
          },
          "metadata": {}
        },
        {
          "output_type": "display_data",
          "data": {
            "text/plain": [
              "\u001b[1m Total params: \u001b[0m\u001b[38;5;34m0\u001b[0m (0.00 B)\n"
            ],
            "text/html": [
              "<pre style=\"white-space:pre;overflow-x:auto;line-height:normal;font-family:Menlo,'DejaVu Sans Mono',consolas,'Courier New',monospace\"><span style=\"font-weight: bold\"> Total params: </span><span style=\"color: #00af00; text-decoration-color: #00af00\">0</span> (0.00 B)\n",
              "</pre>\n"
            ]
          },
          "metadata": {}
        },
        {
          "output_type": "display_data",
          "data": {
            "text/plain": [
              "\u001b[1m Trainable params: \u001b[0m\u001b[38;5;34m0\u001b[0m (0.00 B)\n"
            ],
            "text/html": [
              "<pre style=\"white-space:pre;overflow-x:auto;line-height:normal;font-family:Menlo,'DejaVu Sans Mono',consolas,'Courier New',monospace\"><span style=\"font-weight: bold\"> Trainable params: </span><span style=\"color: #00af00; text-decoration-color: #00af00\">0</span> (0.00 B)\n",
              "</pre>\n"
            ]
          },
          "metadata": {}
        },
        {
          "output_type": "display_data",
          "data": {
            "text/plain": [
              "\u001b[1m Non-trainable params: \u001b[0m\u001b[38;5;34m0\u001b[0m (0.00 B)\n"
            ],
            "text/html": [
              "<pre style=\"white-space:pre;overflow-x:auto;line-height:normal;font-family:Menlo,'DejaVu Sans Mono',consolas,'Courier New',monospace\"><span style=\"font-weight: bold\"> Non-trainable params: </span><span style=\"color: #00af00; text-decoration-color: #00af00\">0</span> (0.00 B)\n",
              "</pre>\n"
            ]
          },
          "metadata": {}
        },
        {
          "output_type": "stream",
          "name": "stdout",
          "text": [
            "Epoch 1/15\n",
            "\u001b[1m3/3\u001b[0m \u001b[32m━━━━━━━━━━━━━━━━━━━━\u001b[0m\u001b[37m\u001b[0m \u001b[1m5s\u001b[0m 280ms/step - accuracy: 0.6136 - loss: 0.6836 - val_accuracy: 0.8333 - val_loss: 0.6589\n",
            "Epoch 2/15\n",
            "\u001b[1m3/3\u001b[0m \u001b[32m━━━━━━━━━━━━━━━━━━━━\u001b[0m\u001b[37m\u001b[0m \u001b[1m0s\u001b[0m 75ms/step - accuracy: 0.8920 - loss: 0.6379 - val_accuracy: 0.8333 - val_loss: 0.6214\n",
            "Epoch 3/15\n",
            "\u001b[1m3/3\u001b[0m \u001b[32m━━━━━━━━━━━━━━━━━━━━\u001b[0m\u001b[37m\u001b[0m \u001b[1m0s\u001b[0m 55ms/step - accuracy: 0.8920 - loss: 0.5754 - val_accuracy: 0.8333 - val_loss: 0.5734\n",
            "Epoch 4/15\n",
            "\u001b[1m3/3\u001b[0m \u001b[32m━━━━━━━━━━━━━━━━━━━━\u001b[0m\u001b[37m\u001b[0m \u001b[1m0s\u001b[0m 56ms/step - accuracy: 0.9389 - loss: 0.4782 - val_accuracy: 0.8333 - val_loss: 0.5315\n",
            "Epoch 5/15\n",
            "\u001b[1m3/3\u001b[0m \u001b[32m━━━━━━━━━━━━━━━━━━━━\u001b[0m\u001b[37m\u001b[0m \u001b[1m0s\u001b[0m 54ms/step - accuracy: 0.9077 - loss: 0.3744 - val_accuracy: 0.8333 - val_loss: 0.5262\n",
            "Epoch 6/15\n",
            "\u001b[1m3/3\u001b[0m \u001b[32m━━━━━━━━━━━━━━━━━━━━\u001b[0m\u001b[37m\u001b[0m \u001b[1m0s\u001b[0m 55ms/step - accuracy: 0.9389 - loss: 0.2839 - val_accuracy: 0.8333 - val_loss: 0.5461\n",
            "Epoch 7/15\n",
            "\u001b[1m3/3\u001b[0m \u001b[32m━━━━━━━━━━━━━━━━━━━━\u001b[0m\u001b[37m\u001b[0m \u001b[1m0s\u001b[0m 55ms/step - accuracy: 0.9545 - loss: 0.2337 - val_accuracy: 0.8333 - val_loss: 0.5446\n",
            "Epoch 8/15\n",
            "\u001b[1m3/3\u001b[0m \u001b[32m━━━━━━━━━━━━━━━━━━━━\u001b[0m\u001b[37m\u001b[0m \u001b[1m0s\u001b[0m 58ms/step - accuracy: 0.8920 - loss: 0.3859 - val_accuracy: 0.8333 - val_loss: 0.4357\n",
            "Epoch 9/15\n",
            "\u001b[1m3/3\u001b[0m \u001b[32m━━━━━━━━━━━━━━━━━━━━\u001b[0m\u001b[37m\u001b[0m \u001b[1m0s\u001b[0m 55ms/step - accuracy: 0.8608 - loss: 0.2697 - val_accuracy: 0.8333 - val_loss: 0.3956\n",
            "Epoch 10/15\n",
            "\u001b[1m3/3\u001b[0m \u001b[32m━━━━━━━━━━━━━━━━━━━━\u001b[0m\u001b[37m\u001b[0m \u001b[1m0s\u001b[0m 55ms/step - accuracy: 0.9077 - loss: 0.2031 - val_accuracy: 0.8333 - val_loss: 0.3864\n",
            "Epoch 11/15\n",
            "\u001b[1m3/3\u001b[0m \u001b[32m━━━━━━━━━━━━━━━━━━━━\u001b[0m\u001b[37m\u001b[0m \u001b[1m0s\u001b[0m 73ms/step - accuracy: 0.8920 - loss: 0.2645 - val_accuracy: 0.8333 - val_loss: 0.3708\n",
            "Epoch 12/15\n",
            "\u001b[1m3/3\u001b[0m \u001b[32m━━━━━━━━━━━━━━━━━━━━\u001b[0m\u001b[37m\u001b[0m \u001b[1m0s\u001b[0m 56ms/step - accuracy: 0.8920 - loss: 0.1939 - val_accuracy: 0.8333 - val_loss: 0.3649\n",
            "Epoch 13/15\n",
            "\u001b[1m3/3\u001b[0m \u001b[32m━━━━━━━━━━━━━━━━━━━━\u001b[0m\u001b[37m\u001b[0m \u001b[1m0s\u001b[0m 109ms/step - accuracy: 0.9389 - loss: 0.1094 - val_accuracy: 0.8333 - val_loss: 0.3856\n",
            "Epoch 14/15\n",
            "\u001b[1m3/3\u001b[0m \u001b[32m━━━━━━━━━━━━━━━━━━━━\u001b[0m\u001b[37m\u001b[0m \u001b[1m0s\u001b[0m 100ms/step - accuracy: 0.9389 - loss: 0.0755 - val_accuracy: 0.8333 - val_loss: 0.4021\n",
            "Epoch 15/15\n",
            "\u001b[1m3/3\u001b[0m \u001b[32m━━━━━━━━━━━━━━━━━━━━\u001b[0m\u001b[37m\u001b[0m \u001b[1m0s\u001b[0m 92ms/step - accuracy: 0.9233 - loss: 0.0902 - val_accuracy: 0.8333 - val_loss: 0.3928\n"
          ]
        },
        {
          "output_type": "display_data",
          "data": {
            "text/plain": [
              "<Figure size 1000x500 with 1 Axes>"
            ],
            "image/png": "[encoded data removed]"
          },
          "metadata": {}
        },
        {
          "output_type": "stream",
          "name": "stdout",
          "text": [
            "\n",
            "=== ML-LSTM EXTRACTIVE SUMMARY ===\n",
            "\n",
            "Moreover, AI can automate administrative tasks such as grading and attendance tracking, allowing teachers to focus more on interactive and creative aspects of teaching.\n",
            "Chatbots powered by natural language processing are available 247 to handle customer queries, while machine learning models monitor transactions for suspicious activity, reducing financial fraud.\n",
            "In conclusion, AI is not just a technological trend—it is a paradigm shift that will shape the future of healthcare, education, transportation, business, and beyond.\n"
          ]
        }
      ]
    },
    {
      "cell_type": "code",
      "source": [],
      "metadata": {
        "id": "xrVw41_pNb_X"
      },
      "execution_count": null,
      "outputs": []
    }
  ]
}